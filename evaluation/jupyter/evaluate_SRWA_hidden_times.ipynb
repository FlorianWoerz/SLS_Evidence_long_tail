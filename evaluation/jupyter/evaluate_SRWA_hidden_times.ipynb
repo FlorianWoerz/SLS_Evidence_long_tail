{
 "cells": [
  {
   "cell_type": "markdown",
   "metadata": {},
   "source": [
    "# Evaluation of time data collected with SRWA and hidden instances\n",
    "\n",
    "We tested SRWA with \n",
    "\n",
    "* 10 hidden solution instances with 50 variables, and\n",
    "* 10 hidden solution instances with 100 variables.\n",
    "\n",
    "The concrete instances can be seen below.\n",
    "\n",
    "In this notebook we consider the **CPU time** instead of the flips."
   ]
  },
  {
   "cell_type": "code",
   "execution_count": 1,
   "metadata": {},
   "outputs": [
    {
     "data": {
      "application/javascript": [
       "IPython.OutputArea.prototype._should_scroll = function(lines) {\n",
       "    return false;\n",
       "}\n"
      ],
      "text/plain": [
       "<IPython.core.display.Javascript object>"
      ]
     },
     "metadata": {},
     "output_type": "display_data"
    }
   ],
   "source": [
    "%%javascript\n",
    "IPython.OutputArea.prototype._should_scroll = function(lines) {\n",
    "    return false;\n",
    "}"
   ]
  },
  {
   "cell_type": "markdown",
   "metadata": {},
   "source": [
    "## Preliminaries"
   ]
  },
  {
   "cell_type": "code",
   "execution_count": 2,
   "metadata": {},
   "outputs": [],
   "source": [
    "#\n",
    "# Load all necessary modules\n",
    "#\n",
    "\n",
    "# Module for \"Unix style pathname pattern expansion\" \n",
    "# and \"Miscellaneous operating system interfaces\"\n",
    "import glob\n",
    "import os\n",
    "\n",
    "# Modules for data analysis, plotting, etc.\n",
    "import pandas as pd\n",
    "import numpy as np\n",
    "from scipy.stats import probplot\n",
    "from matplotlib import pyplot as plt\n",
    "from scipy.stats import lognorm\n",
    "from scipy import stats\n",
    "import seaborn as sns\n",
    "\n",
    "# Load our own modules for analysis of ecdfs, survival functions, \n",
    "# confidence intervals, etc. and the respective plotting. \n",
    "# The corresponding files can be found in ./evaluation/jupyter.\n",
    "from empirical import *\n",
    "from plots import *"
   ]
  },
  {
   "cell_type": "code",
   "execution_count": 3,
   "metadata": {},
   "outputs": [],
   "source": [
    "# Specify the base path of this experiment series.\n",
    "# The base path is refined by folders incidating the number of variables.\n",
    "# For SRWA + hidden instances, we used instances with n \\in {50, 100} variables.\n",
    "path = '../../experiments/csvs_hidden_solution'\n",
    "filters = ['n50', 'n100']"
   ]
  },
  {
   "cell_type": "code",
   "execution_count": 4,
   "metadata": {},
   "outputs": [
    {
     "data": {
      "text/plain": [
       "['../../experiments/csvs_hidden_solution/gen_n50_m213_k3SAT_seed1181241944.csv',\n",
       " '../../experiments/csvs_hidden_solution/gen_n50_m213_k3SAT_seed958682847.csv',\n",
       " '../../experiments/csvs_hidden_solution/gen_n50_m213_k3SAT_seed3184935164.csv',\n",
       " '../../experiments/csvs_hidden_solution/gen_n50_m213_k3SAT_seed3163119786.csv',\n",
       " '../../experiments/csvs_hidden_solution/gen_n50_m213_k3SAT_seed2746317214.csv',\n",
       " '../../experiments/csvs_hidden_solution/gen_n50_m213_k3SAT_seed440213416.csv',\n",
       " '../../experiments/csvs_hidden_solution/gen_n50_m213_k3SAT_seed478163328.csv',\n",
       " '../../experiments/csvs_hidden_solution/gen_n50_m213_k3SAT_seed1051802513.csv',\n",
       " '../../experiments/csvs_hidden_solution/gen_n50_m213_k3SAT_seed107420370.csv',\n",
       " '../../experiments/csvs_hidden_solution/gen_n50_m213_k3SAT_seed599310826.csv',\n",
       " '../../experiments/csvs_hidden_solution/gen_n100_m427_k3SAT_seed136505588.csv',\n",
       " '../../experiments/csvs_hidden_solution/gen_n100_m427_k3SAT_seed2342331445.csv',\n",
       " '../../experiments/csvs_hidden_solution/gen_n100_m427_k3SAT_seed1812140442.csv',\n",
       " '../../experiments/csvs_hidden_solution/gen_n100_m427_k3SAT_seed2906402158.csv',\n",
       " '../../experiments/csvs_hidden_solution/gen_n100_m427_k3SAT_seed402418011.csv',\n",
       " '../../experiments/csvs_hidden_solution/gen_n100_m427_k3SAT_seed3831882065.csv',\n",
       " '../../experiments/csvs_hidden_solution/gen_n100_m427_k3SAT_seed3181143732.csv',\n",
       " '../../experiments/csvs_hidden_solution/gen_n100_m427_k3SAT_seed373399427.csv',\n",
       " '../../experiments/csvs_hidden_solution/gen_n100_m427_k3SAT_seed127978095.csv',\n",
       " '../../experiments/csvs_hidden_solution/gen_n100_m427_k3SAT_seed2536146026.csv']"
      ]
     },
     "execution_count": 4,
     "metadata": {},
     "output_type": "execute_result"
    }
   ],
   "source": [
    "# List all instances under consideration.\n",
    "instances = []\n",
    "for filter in filters:\n",
    "    instances += glob.glob(os.path.join(path, f'*{filter}*.csv'))\n",
    "\n",
    "instances"
   ]
  },
  {
   "cell_type": "markdown",
   "metadata": {},
   "source": [
    "## Computational effort"
   ]
  },
  {
   "cell_type": "code",
   "execution_count": 15,
   "metadata": {},
   "outputs": [
    {
     "name": "stdout",
     "output_type": "stream",
     "text": [
      "Mean effort:  17193517.58752416\n"
     ]
    }
   ],
   "source": [
    "# Computational effort as mentioned in the paper\n",
    "effort = 0\n",
    "for i in range(10,len(instances)): # Select the instances with n=100 variables\n",
    "    name = instances[i]\n",
    "    df = pd.read_csv(name, index_col=[0,1])\n",
    "    df.drop(index=['seed', 'flips'], level=1, inplace=True)\n",
    "    effort += df.sum().sum()    \n",
    "print(\"Mean effort: \", effort/10)"
   ]
  }
 ],
 "metadata": {
  "kernelspec": {
   "display_name": "Python 3",
   "language": "python",
   "name": "python3"
  },
  "language_info": {
   "codemirror_mode": {
    "name": "ipython",
    "version": 3
   },
   "file_extension": ".py",
   "mimetype": "text/x-python",
   "name": "python",
   "nbconvert_exporter": "python",
   "pygments_lexer": "ipython3",
   "version": "3.7.6"
  }
 },
 "nbformat": 4,
 "nbformat_minor": 2
}
